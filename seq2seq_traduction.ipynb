{
  "nbformat": 4,
  "nbformat_minor": 0,
  "metadata": {
    "colab": {
      "provenance": [],
      "gpuType": "T4",
      "include_colab_link": true
    },
    "kernelspec": {
      "name": "python3",
      "display_name": "Python 3"
    },
    "language_info": {
      "name": "python"
    },
    "widgets": {
      "application/vnd.jupyter.widget-state+json": {
        "63d3e475139c4eea83f97cb223b25a5a": {
          "model_module": "@jupyter-widgets/controls",
          "model_name": "HBoxModel",
          "model_module_version": "1.5.0",
          "state": {
            "_dom_classes": [],
            "_model_module": "@jupyter-widgets/controls",
            "_model_module_version": "1.5.0",
            "_model_name": "HBoxModel",
            "_view_count": null,
            "_view_module": "@jupyter-widgets/controls",
            "_view_module_version": "1.5.0",
            "_view_name": "HBoxView",
            "box_style": "",
            "children": [
              "IPY_MODEL_b516e9e7165649c79d66a28aad07286e",
              "IPY_MODEL_1d0da855e5cf4ce9b845896a600bae42",
              "IPY_MODEL_dadaff309dda4eb29e857667e146916f"
            ],
            "layout": "IPY_MODEL_8205f4b367be4ca5b375e5bea44ba5ee"
          }
        },
        "b516e9e7165649c79d66a28aad07286e": {
          "model_module": "@jupyter-widgets/controls",
          "model_name": "HTMLModel",
          "model_module_version": "1.5.0",
          "state": {
            "_dom_classes": [],
            "_model_module": "@jupyter-widgets/controls",
            "_model_module_version": "1.5.0",
            "_model_name": "HTMLModel",
            "_view_count": null,
            "_view_module": "@jupyter-widgets/controls",
            "_view_module_version": "1.5.0",
            "_view_name": "HTMLView",
            "description": "",
            "description_tooltip": null,
            "layout": "IPY_MODEL_bc23f62ae39a413b9fe41e50355ecc22",
            "placeholder": "​",
            "style": "IPY_MODEL_1c4964f488a241858d98461ddb6fa170",
            "value": "Downloading builder script: 100%"
          }
        },
        "1d0da855e5cf4ce9b845896a600bae42": {
          "model_module": "@jupyter-widgets/controls",
          "model_name": "FloatProgressModel",
          "model_module_version": "1.5.0",
          "state": {
            "_dom_classes": [],
            "_model_module": "@jupyter-widgets/controls",
            "_model_module_version": "1.5.0",
            "_model_name": "FloatProgressModel",
            "_view_count": null,
            "_view_module": "@jupyter-widgets/controls",
            "_view_module_version": "1.5.0",
            "_view_name": "ProgressView",
            "bar_style": "success",
            "description": "",
            "description_tooltip": null,
            "layout": "IPY_MODEL_d9808f1f964d4de9a70f43d5b046872e",
            "max": 4407,
            "min": 0,
            "orientation": "horizontal",
            "style": "IPY_MODEL_53f9e33897344fcebbedc3df6555367c",
            "value": 4407
          }
        },
        "dadaff309dda4eb29e857667e146916f": {
          "model_module": "@jupyter-widgets/controls",
          "model_name": "HTMLModel",
          "model_module_version": "1.5.0",
          "state": {
            "_dom_classes": [],
            "_model_module": "@jupyter-widgets/controls",
            "_model_module_version": "1.5.0",
            "_model_name": "HTMLModel",
            "_view_count": null,
            "_view_module": "@jupyter-widgets/controls",
            "_view_module_version": "1.5.0",
            "_view_name": "HTMLView",
            "description": "",
            "description_tooltip": null,
            "layout": "IPY_MODEL_8424059e10e24bdebe711c583b7bf162",
            "placeholder": "​",
            "style": "IPY_MODEL_f866048adcf3453bab98cefe97361788",
            "value": " 4.41k/4.41k [00:00&lt;00:00, 297kB/s]"
          }
        },
        "8205f4b367be4ca5b375e5bea44ba5ee": {
          "model_module": "@jupyter-widgets/base",
          "model_name": "LayoutModel",
          "model_module_version": "1.2.0",
          "state": {
            "_model_module": "@jupyter-widgets/base",
            "_model_module_version": "1.2.0",
            "_model_name": "LayoutModel",
            "_view_count": null,
            "_view_module": "@jupyter-widgets/base",
            "_view_module_version": "1.2.0",
            "_view_name": "LayoutView",
            "align_content": null,
            "align_items": null,
            "align_self": null,
            "border": null,
            "bottom": null,
            "display": null,
            "flex": null,
            "flex_flow": null,
            "grid_area": null,
            "grid_auto_columns": null,
            "grid_auto_flow": null,
            "grid_auto_rows": null,
            "grid_column": null,
            "grid_gap": null,
            "grid_row": null,
            "grid_template_areas": null,
            "grid_template_columns": null,
            "grid_template_rows": null,
            "height": null,
            "justify_content": null,
            "justify_items": null,
            "left": null,
            "margin": null,
            "max_height": null,
            "max_width": null,
            "min_height": null,
            "min_width": null,
            "object_fit": null,
            "object_position": null,
            "order": null,
            "overflow": null,
            "overflow_x": null,
            "overflow_y": null,
            "padding": null,
            "right": null,
            "top": null,
            "visibility": null,
            "width": null
          }
        },
        "bc23f62ae39a413b9fe41e50355ecc22": {
          "model_module": "@jupyter-widgets/base",
          "model_name": "LayoutModel",
          "model_module_version": "1.2.0",
          "state": {
            "_model_module": "@jupyter-widgets/base",
            "_model_module_version": "1.2.0",
            "_model_name": "LayoutModel",
            "_view_count": null,
            "_view_module": "@jupyter-widgets/base",
            "_view_module_version": "1.2.0",
            "_view_name": "LayoutView",
            "align_content": null,
            "align_items": null,
            "align_self": null,
            "border": null,
            "bottom": null,
            "display": null,
            "flex": null,
            "flex_flow": null,
            "grid_area": null,
            "grid_auto_columns": null,
            "grid_auto_flow": null,
            "grid_auto_rows": null,
            "grid_column": null,
            "grid_gap": null,
            "grid_row": null,
            "grid_template_areas": null,
            "grid_template_columns": null,
            "grid_template_rows": null,
            "height": null,
            "justify_content": null,
            "justify_items": null,
            "left": null,
            "margin": null,
            "max_height": null,
            "max_width": null,
            "min_height": null,
            "min_width": null,
            "object_fit": null,
            "object_position": null,
            "order": null,
            "overflow": null,
            "overflow_x": null,
            "overflow_y": null,
            "padding": null,
            "right": null,
            "top": null,
            "visibility": null,
            "width": null
          }
        },
        "1c4964f488a241858d98461ddb6fa170": {
          "model_module": "@jupyter-widgets/controls",
          "model_name": "DescriptionStyleModel",
          "model_module_version": "1.5.0",
          "state": {
            "_model_module": "@jupyter-widgets/controls",
            "_model_module_version": "1.5.0",
            "_model_name": "DescriptionStyleModel",
            "_view_count": null,
            "_view_module": "@jupyter-widgets/base",
            "_view_module_version": "1.2.0",
            "_view_name": "StyleView",
            "description_width": ""
          }
        },
        "d9808f1f964d4de9a70f43d5b046872e": {
          "model_module": "@jupyter-widgets/base",
          "model_name": "LayoutModel",
          "model_module_version": "1.2.0",
          "state": {
            "_model_module": "@jupyter-widgets/base",
            "_model_module_version": "1.2.0",
            "_model_name": "LayoutModel",
            "_view_count": null,
            "_view_module": "@jupyter-widgets/base",
            "_view_module_version": "1.2.0",
            "_view_name": "LayoutView",
            "align_content": null,
            "align_items": null,
            "align_self": null,
            "border": null,
            "bottom": null,
            "display": null,
            "flex": null,
            "flex_flow": null,
            "grid_area": null,
            "grid_auto_columns": null,
            "grid_auto_flow": null,
            "grid_auto_rows": null,
            "grid_column": null,
            "grid_gap": null,
            "grid_row": null,
            "grid_template_areas": null,
            "grid_template_columns": null,
            "grid_template_rows": null,
            "height": null,
            "justify_content": null,
            "justify_items": null,
            "left": null,
            "margin": null,
            "max_height": null,
            "max_width": null,
            "min_height": null,
            "min_width": null,
            "object_fit": null,
            "object_position": null,
            "order": null,
            "overflow": null,
            "overflow_x": null,
            "overflow_y": null,
            "padding": null,
            "right": null,
            "top": null,
            "visibility": null,
            "width": null
          }
        },
        "53f9e33897344fcebbedc3df6555367c": {
          "model_module": "@jupyter-widgets/controls",
          "model_name": "ProgressStyleModel",
          "model_module_version": "1.5.0",
          "state": {
            "_model_module": "@jupyter-widgets/controls",
            "_model_module_version": "1.5.0",
            "_model_name": "ProgressStyleModel",
            "_view_count": null,
            "_view_module": "@jupyter-widgets/base",
            "_view_module_version": "1.2.0",
            "_view_name": "StyleView",
            "bar_color": null,
            "description_width": ""
          }
        },
        "8424059e10e24bdebe711c583b7bf162": {
          "model_module": "@jupyter-widgets/base",
          "model_name": "LayoutModel",
          "model_module_version": "1.2.0",
          "state": {
            "_model_module": "@jupyter-widgets/base",
            "_model_module_version": "1.2.0",
            "_model_name": "LayoutModel",
            "_view_count": null,
            "_view_module": "@jupyter-widgets/base",
            "_view_module_version": "1.2.0",
            "_view_name": "LayoutView",
            "align_content": null,
            "align_items": null,
            "align_self": null,
            "border": null,
            "bottom": null,
            "display": null,
            "flex": null,
            "flex_flow": null,
            "grid_area": null,
            "grid_auto_columns": null,
            "grid_auto_flow": null,
            "grid_auto_rows": null,
            "grid_column": null,
            "grid_gap": null,
            "grid_row": null,
            "grid_template_areas": null,
            "grid_template_columns": null,
            "grid_template_rows": null,
            "height": null,
            "justify_content": null,
            "justify_items": null,
            "left": null,
            "margin": null,
            "max_height": null,
            "max_width": null,
            "min_height": null,
            "min_width": null,
            "object_fit": null,
            "object_position": null,
            "order": null,
            "overflow": null,
            "overflow_x": null,
            "overflow_y": null,
            "padding": null,
            "right": null,
            "top": null,
            "visibility": null,
            "width": null
          }
        },
        "f866048adcf3453bab98cefe97361788": {
          "model_module": "@jupyter-widgets/controls",
          "model_name": "DescriptionStyleModel",
          "model_module_version": "1.5.0",
          "state": {
            "_model_module": "@jupyter-widgets/controls",
            "_model_module_version": "1.5.0",
            "_model_name": "DescriptionStyleModel",
            "_view_count": null,
            "_view_module": "@jupyter-widgets/base",
            "_view_module_version": "1.2.0",
            "_view_name": "StyleView",
            "description_width": ""
          }
        },
        "f2e3d5a4dc7e40839d2ee7e8d966a08e": {
          "model_module": "@jupyter-widgets/controls",
          "model_name": "HBoxModel",
          "model_module_version": "1.5.0",
          "state": {
            "_dom_classes": [],
            "_model_module": "@jupyter-widgets/controls",
            "_model_module_version": "1.5.0",
            "_model_name": "HBoxModel",
            "_view_count": null,
            "_view_module": "@jupyter-widgets/controls",
            "_view_module_version": "1.5.0",
            "_view_name": "HBoxView",
            "box_style": "",
            "children": [
              "IPY_MODEL_042f2dbcbf82496a8392115760ba61c0",
              "IPY_MODEL_79abeeac317d4339af7353e4f5a41410",
              "IPY_MODEL_dff037af5abe4b0093b8c10b8e612943"
            ],
            "layout": "IPY_MODEL_05010b34b73941159ffbc17ee8b56980"
          }
        },
        "042f2dbcbf82496a8392115760ba61c0": {
          "model_module": "@jupyter-widgets/controls",
          "model_name": "HTMLModel",
          "model_module_version": "1.5.0",
          "state": {
            "_dom_classes": [],
            "_model_module": "@jupyter-widgets/controls",
            "_model_module_version": "1.5.0",
            "_model_name": "HTMLModel",
            "_view_count": null,
            "_view_module": "@jupyter-widgets/controls",
            "_view_module_version": "1.5.0",
            "_view_name": "HTMLView",
            "description": "",
            "description_tooltip": null,
            "layout": "IPY_MODEL_03182a879b6641e48245c7e69dfe6715",
            "placeholder": "​",
            "style": "IPY_MODEL_6049deaafa634cfd80729530bb3bd237",
            "value": "Downloading readme: 100%"
          }
        },
        "79abeeac317d4339af7353e4f5a41410": {
          "model_module": "@jupyter-widgets/controls",
          "model_name": "FloatProgressModel",
          "model_module_version": "1.5.0",
          "state": {
            "_dom_classes": [],
            "_model_module": "@jupyter-widgets/controls",
            "_model_module_version": "1.5.0",
            "_model_name": "FloatProgressModel",
            "_view_count": null,
            "_view_module": "@jupyter-widgets/controls",
            "_view_module_version": "1.5.0",
            "_view_name": "ProgressView",
            "bar_style": "success",
            "description": "",
            "description_tooltip": null,
            "layout": "IPY_MODEL_783a70f6f0f64acc84f262f276657654",
            "max": 8928,
            "min": 0,
            "orientation": "horizontal",
            "style": "IPY_MODEL_16ac9cd2ffef4e8ca8c962dfe647476f",
            "value": 8928
          }
        },
        "dff037af5abe4b0093b8c10b8e612943": {
          "model_module": "@jupyter-widgets/controls",
          "model_name": "HTMLModel",
          "model_module_version": "1.5.0",
          "state": {
            "_dom_classes": [],
            "_model_module": "@jupyter-widgets/controls",
            "_model_module_version": "1.5.0",
            "_model_name": "HTMLModel",
            "_view_count": null,
            "_view_module": "@jupyter-widgets/controls",
            "_view_module_version": "1.5.0",
            "_view_name": "HTMLView",
            "description": "",
            "description_tooltip": null,
            "layout": "IPY_MODEL_e4a7564e72db4a6ca83cfc0839abb94e",
            "placeholder": "​",
            "style": "IPY_MODEL_ddd5fd6fa81e4d4f8af000079ac3eff2",
            "value": " 8.93k/8.93k [00:00&lt;00:00, 622kB/s]"
          }
        },
        "05010b34b73941159ffbc17ee8b56980": {
          "model_module": "@jupyter-widgets/base",
          "model_name": "LayoutModel",
          "model_module_version": "1.2.0",
          "state": {
            "_model_module": "@jupyter-widgets/base",
            "_model_module_version": "1.2.0",
            "_model_name": "LayoutModel",
            "_view_count": null,
            "_view_module": "@jupyter-widgets/base",
            "_view_module_version": "1.2.0",
            "_view_name": "LayoutView",
            "align_content": null,
            "align_items": null,
            "align_self": null,
            "border": null,
            "bottom": null,
            "display": null,
            "flex": null,
            "flex_flow": null,
            "grid_area": null,
            "grid_auto_columns": null,
            "grid_auto_flow": null,
            "grid_auto_rows": null,
            "grid_column": null,
            "grid_gap": null,
            "grid_row": null,
            "grid_template_areas": null,
            "grid_template_columns": null,
            "grid_template_rows": null,
            "height": null,
            "justify_content": null,
            "justify_items": null,
            "left": null,
            "margin": null,
            "max_height": null,
            "max_width": null,
            "min_height": null,
            "min_width": null,
            "object_fit": null,
            "object_position": null,
            "order": null,
            "overflow": null,
            "overflow_x": null,
            "overflow_y": null,
            "padding": null,
            "right": null,
            "top": null,
            "visibility": null,
            "width": null
          }
        },
        "03182a879b6641e48245c7e69dfe6715": {
          "model_module": "@jupyter-widgets/base",
          "model_name": "LayoutModel",
          "model_module_version": "1.2.0",
          "state": {
            "_model_module": "@jupyter-widgets/base",
            "_model_module_version": "1.2.0",
            "_model_name": "LayoutModel",
            "_view_count": null,
            "_view_module": "@jupyter-widgets/base",
            "_view_module_version": "1.2.0",
            "_view_name": "LayoutView",
            "align_content": null,
            "align_items": null,
            "align_self": null,
            "border": null,
            "bottom": null,
            "display": null,
            "flex": null,
            "flex_flow": null,
            "grid_area": null,
            "grid_auto_columns": null,
            "grid_auto_flow": null,
            "grid_auto_rows": null,
            "grid_column": null,
            "grid_gap": null,
            "grid_row": null,
            "grid_template_areas": null,
            "grid_template_columns": null,
            "grid_template_rows": null,
            "height": null,
            "justify_content": null,
            "justify_items": null,
            "left": null,
            "margin": null,
            "max_height": null,
            "max_width": null,
            "min_height": null,
            "min_width": null,
            "object_fit": null,
            "object_position": null,
            "order": null,
            "overflow": null,
            "overflow_x": null,
            "overflow_y": null,
            "padding": null,
            "right": null,
            "top": null,
            "visibility": null,
            "width": null
          }
        },
        "6049deaafa634cfd80729530bb3bd237": {
          "model_module": "@jupyter-widgets/controls",
          "model_name": "DescriptionStyleModel",
          "model_module_version": "1.5.0",
          "state": {
            "_model_module": "@jupyter-widgets/controls",
            "_model_module_version": "1.5.0",
            "_model_name": "DescriptionStyleModel",
            "_view_count": null,
            "_view_module": "@jupyter-widgets/base",
            "_view_module_version": "1.2.0",
            "_view_name": "StyleView",
            "description_width": ""
          }
        },
        "783a70f6f0f64acc84f262f276657654": {
          "model_module": "@jupyter-widgets/base",
          "model_name": "LayoutModel",
          "model_module_version": "1.2.0",
          "state": {
            "_model_module": "@jupyter-widgets/base",
            "_model_module_version": "1.2.0",
            "_model_name": "LayoutModel",
            "_view_count": null,
            "_view_module": "@jupyter-widgets/base",
            "_view_module_version": "1.2.0",
            "_view_name": "LayoutView",
            "align_content": null,
            "align_items": null,
            "align_self": null,
            "border": null,
            "bottom": null,
            "display": null,
            "flex": null,
            "flex_flow": null,
            "grid_area": null,
            "grid_auto_columns": null,
            "grid_auto_flow": null,
            "grid_auto_rows": null,
            "grid_column": null,
            "grid_gap": null,
            "grid_row": null,
            "grid_template_areas": null,
            "grid_template_columns": null,
            "grid_template_rows": null,
            "height": null,
            "justify_content": null,
            "justify_items": null,
            "left": null,
            "margin": null,
            "max_height": null,
            "max_width": null,
            "min_height": null,
            "min_width": null,
            "object_fit": null,
            "object_position": null,
            "order": null,
            "overflow": null,
            "overflow_x": null,
            "overflow_y": null,
            "padding": null,
            "right": null,
            "top": null,
            "visibility": null,
            "width": null
          }
        },
        "16ac9cd2ffef4e8ca8c962dfe647476f": {
          "model_module": "@jupyter-widgets/controls",
          "model_name": "ProgressStyleModel",
          "model_module_version": "1.5.0",
          "state": {
            "_model_module": "@jupyter-widgets/controls",
            "_model_module_version": "1.5.0",
            "_model_name": "ProgressStyleModel",
            "_view_count": null,
            "_view_module": "@jupyter-widgets/base",
            "_view_module_version": "1.2.0",
            "_view_name": "StyleView",
            "bar_color": null,
            "description_width": ""
          }
        },
        "e4a7564e72db4a6ca83cfc0839abb94e": {
          "model_module": "@jupyter-widgets/base",
          "model_name": "LayoutModel",
          "model_module_version": "1.2.0",
          "state": {
            "_model_module": "@jupyter-widgets/base",
            "_model_module_version": "1.2.0",
            "_model_name": "LayoutModel",
            "_view_count": null,
            "_view_module": "@jupyter-widgets/base",
            "_view_module_version": "1.2.0",
            "_view_name": "LayoutView",
            "align_content": null,
            "align_items": null,
            "align_self": null,
            "border": null,
            "bottom": null,
            "display": null,
            "flex": null,
            "flex_flow": null,
            "grid_area": null,
            "grid_auto_columns": null,
            "grid_auto_flow": null,
            "grid_auto_rows": null,
            "grid_column": null,
            "grid_gap": null,
            "grid_row": null,
            "grid_template_areas": null,
            "grid_template_columns": null,
            "grid_template_rows": null,
            "height": null,
            "justify_content": null,
            "justify_items": null,
            "left": null,
            "margin": null,
            "max_height": null,
            "max_width": null,
            "min_height": null,
            "min_width": null,
            "object_fit": null,
            "object_position": null,
            "order": null,
            "overflow": null,
            "overflow_x": null,
            "overflow_y": null,
            "padding": null,
            "right": null,
            "top": null,
            "visibility": null,
            "width": null
          }
        },
        "ddd5fd6fa81e4d4f8af000079ac3eff2": {
          "model_module": "@jupyter-widgets/controls",
          "model_name": "DescriptionStyleModel",
          "model_module_version": "1.5.0",
          "state": {
            "_model_module": "@jupyter-widgets/controls",
            "_model_module_version": "1.5.0",
            "_model_name": "DescriptionStyleModel",
            "_view_count": null,
            "_view_module": "@jupyter-widgets/base",
            "_view_module_version": "1.2.0",
            "_view_name": "StyleView",
            "description_width": ""
          }
        },
        "9a7fb6c9a5ae4f4c82a72bda8b49afb5": {
          "model_module": "@jupyter-widgets/controls",
          "model_name": "HBoxModel",
          "model_module_version": "1.5.0",
          "state": {
            "_dom_classes": [],
            "_model_module": "@jupyter-widgets/controls",
            "_model_module_version": "1.5.0",
            "_model_name": "HBoxModel",
            "_view_count": null,
            "_view_module": "@jupyter-widgets/controls",
            "_view_module_version": "1.5.0",
            "_view_name": "HBoxView",
            "box_style": "",
            "children": [
              "IPY_MODEL_1c56d0ecaf1a47ce859cac2b536cfddc",
              "IPY_MODEL_3fd4a59678d54ff6b3a1130bcc522388",
              "IPY_MODEL_b885c28fd2a249a19c0b635d461cf024"
            ],
            "layout": "IPY_MODEL_dd7ee97f0bce483c858eda766135595a"
          }
        },
        "1c56d0ecaf1a47ce859cac2b536cfddc": {
          "model_module": "@jupyter-widgets/controls",
          "model_name": "HTMLModel",
          "model_module_version": "1.5.0",
          "state": {
            "_dom_classes": [],
            "_model_module": "@jupyter-widgets/controls",
            "_model_module_version": "1.5.0",
            "_model_name": "HTMLModel",
            "_view_count": null,
            "_view_module": "@jupyter-widgets/controls",
            "_view_module_version": "1.5.0",
            "_view_name": "HTMLView",
            "description": "",
            "description_tooltip": null,
            "layout": "IPY_MODEL_91c59913b4394c17b71e6e21fd320d95",
            "placeholder": "​",
            "style": "IPY_MODEL_a7edf54e5b7a487faadbf245d83a41bf",
            "value": "Downloading data: 100%"
          }
        },
        "3fd4a59678d54ff6b3a1130bcc522388": {
          "model_module": "@jupyter-widgets/controls",
          "model_name": "FloatProgressModel",
          "model_module_version": "1.5.0",
          "state": {
            "_dom_classes": [],
            "_model_module": "@jupyter-widgets/controls",
            "_model_module_version": "1.5.0",
            "_model_name": "FloatProgressModel",
            "_view_count": null,
            "_view_module": "@jupyter-widgets/controls",
            "_view_module_version": "1.5.0",
            "_view_name": "ProgressView",
            "bar_style": "success",
            "description": "",
            "description_tooltip": null,
            "layout": "IPY_MODEL_5ac058c2c0be40c9ab9daeb7c98d018a",
            "max": 7832731,
            "min": 0,
            "orientation": "horizontal",
            "style": "IPY_MODEL_dffaa6f269484801b06afa4386f8e355",
            "value": 7832731
          }
        },
        "b885c28fd2a249a19c0b635d461cf024": {
          "model_module": "@jupyter-widgets/controls",
          "model_name": "HTMLModel",
          "model_module_version": "1.5.0",
          "state": {
            "_dom_classes": [],
            "_model_module": "@jupyter-widgets/controls",
            "_model_module_version": "1.5.0",
            "_model_name": "HTMLModel",
            "_view_count": null,
            "_view_module": "@jupyter-widgets/controls",
            "_view_module_version": "1.5.0",
            "_view_name": "HTMLView",
            "description": "",
            "description_tooltip": null,
            "layout": "IPY_MODEL_81e6028a10664a218f71dc42a66c5e93",
            "placeholder": "​",
            "style": "IPY_MODEL_1cf2383e2f4a4d9daca2109c9b22f35f",
            "value": " 7.83M/7.83M [00:02&lt;00:00, 6.75MB/s]"
          }
        },
        "dd7ee97f0bce483c858eda766135595a": {
          "model_module": "@jupyter-widgets/base",
          "model_name": "LayoutModel",
          "model_module_version": "1.2.0",
          "state": {
            "_model_module": "@jupyter-widgets/base",
            "_model_module_version": "1.2.0",
            "_model_name": "LayoutModel",
            "_view_count": null,
            "_view_module": "@jupyter-widgets/base",
            "_view_module_version": "1.2.0",
            "_view_name": "LayoutView",
            "align_content": null,
            "align_items": null,
            "align_self": null,
            "border": null,
            "bottom": null,
            "display": null,
            "flex": null,
            "flex_flow": null,
            "grid_area": null,
            "grid_auto_columns": null,
            "grid_auto_flow": null,
            "grid_auto_rows": null,
            "grid_column": null,
            "grid_gap": null,
            "grid_row": null,
            "grid_template_areas": null,
            "grid_template_columns": null,
            "grid_template_rows": null,
            "height": null,
            "justify_content": null,
            "justify_items": null,
            "left": null,
            "margin": null,
            "max_height": null,
            "max_width": null,
            "min_height": null,
            "min_width": null,
            "object_fit": null,
            "object_position": null,
            "order": null,
            "overflow": null,
            "overflow_x": null,
            "overflow_y": null,
            "padding": null,
            "right": null,
            "top": null,
            "visibility": null,
            "width": null
          }
        },
        "91c59913b4394c17b71e6e21fd320d95": {
          "model_module": "@jupyter-widgets/base",
          "model_name": "LayoutModel",
          "model_module_version": "1.2.0",
          "state": {
            "_model_module": "@jupyter-widgets/base",
            "_model_module_version": "1.2.0",
            "_model_name": "LayoutModel",
            "_view_count": null,
            "_view_module": "@jupyter-widgets/base",
            "_view_module_version": "1.2.0",
            "_view_name": "LayoutView",
            "align_content": null,
            "align_items": null,
            "align_self": null,
            "border": null,
            "bottom": null,
            "display": null,
            "flex": null,
            "flex_flow": null,
            "grid_area": null,
            "grid_auto_columns": null,
            "grid_auto_flow": null,
            "grid_auto_rows": null,
            "grid_column": null,
            "grid_gap": null,
            "grid_row": null,
            "grid_template_areas": null,
            "grid_template_columns": null,
            "grid_template_rows": null,
            "height": null,
            "justify_content": null,
            "justify_items": null,
            "left": null,
            "margin": null,
            "max_height": null,
            "max_width": null,
            "min_height": null,
            "min_width": null,
            "object_fit": null,
            "object_position": null,
            "order": null,
            "overflow": null,
            "overflow_x": null,
            "overflow_y": null,
            "padding": null,
            "right": null,
            "top": null,
            "visibility": null,
            "width": null
          }
        },
        "a7edf54e5b7a487faadbf245d83a41bf": {
          "model_module": "@jupyter-widgets/controls",
          "model_name": "DescriptionStyleModel",
          "model_module_version": "1.5.0",
          "state": {
            "_model_module": "@jupyter-widgets/controls",
            "_model_module_version": "1.5.0",
            "_model_name": "DescriptionStyleModel",
            "_view_count": null,
            "_view_module": "@jupyter-widgets/base",
            "_view_module_version": "1.2.0",
            "_view_name": "StyleView",
            "description_width": ""
          }
        },
        "5ac058c2c0be40c9ab9daeb7c98d018a": {
          "model_module": "@jupyter-widgets/base",
          "model_name": "LayoutModel",
          "model_module_version": "1.2.0",
          "state": {
            "_model_module": "@jupyter-widgets/base",
            "_model_module_version": "1.2.0",
            "_model_name": "LayoutModel",
            "_view_count": null,
            "_view_module": "@jupyter-widgets/base",
            "_view_module_version": "1.2.0",
            "_view_name": "LayoutView",
            "align_content": null,
            "align_items": null,
            "align_self": null,
            "border": null,
            "bottom": null,
            "display": null,
            "flex": null,
            "flex_flow": null,
            "grid_area": null,
            "grid_auto_columns": null,
            "grid_auto_flow": null,
            "grid_auto_rows": null,
            "grid_column": null,
            "grid_gap": null,
            "grid_row": null,
            "grid_template_areas": null,
            "grid_template_columns": null,
            "grid_template_rows": null,
            "height": null,
            "justify_content": null,
            "justify_items": null,
            "left": null,
            "margin": null,
            "max_height": null,
            "max_width": null,
            "min_height": null,
            "min_width": null,
            "object_fit": null,
            "object_position": null,
            "order": null,
            "overflow": null,
            "overflow_x": null,
            "overflow_y": null,
            "padding": null,
            "right": null,
            "top": null,
            "visibility": null,
            "width": null
          }
        },
        "dffaa6f269484801b06afa4386f8e355": {
          "model_module": "@jupyter-widgets/controls",
          "model_name": "ProgressStyleModel",
          "model_module_version": "1.5.0",
          "state": {
            "_model_module": "@jupyter-widgets/controls",
            "_model_module_version": "1.5.0",
            "_model_name": "ProgressStyleModel",
            "_view_count": null,
            "_view_module": "@jupyter-widgets/base",
            "_view_module_version": "1.2.0",
            "_view_name": "StyleView",
            "bar_color": null,
            "description_width": ""
          }
        },
        "81e6028a10664a218f71dc42a66c5e93": {
          "model_module": "@jupyter-widgets/base",
          "model_name": "LayoutModel",
          "model_module_version": "1.2.0",
          "state": {
            "_model_module": "@jupyter-widgets/base",
            "_model_module_version": "1.2.0",
            "_model_name": "LayoutModel",
            "_view_count": null,
            "_view_module": "@jupyter-widgets/base",
            "_view_module_version": "1.2.0",
            "_view_name": "LayoutView",
            "align_content": null,
            "align_items": null,
            "align_self": null,
            "border": null,
            "bottom": null,
            "display": null,
            "flex": null,
            "flex_flow": null,
            "grid_area": null,
            "grid_auto_columns": null,
            "grid_auto_flow": null,
            "grid_auto_rows": null,
            "grid_column": null,
            "grid_gap": null,
            "grid_row": null,
            "grid_template_areas": null,
            "grid_template_columns": null,
            "grid_template_rows": null,
            "height": null,
            "justify_content": null,
            "justify_items": null,
            "left": null,
            "margin": null,
            "max_height": null,
            "max_width": null,
            "min_height": null,
            "min_width": null,
            "object_fit": null,
            "object_position": null,
            "order": null,
            "overflow": null,
            "overflow_x": null,
            "overflow_y": null,
            "padding": null,
            "right": null,
            "top": null,
            "visibility": null,
            "width": null
          }
        },
        "1cf2383e2f4a4d9daca2109c9b22f35f": {
          "model_module": "@jupyter-widgets/controls",
          "model_name": "DescriptionStyleModel",
          "model_module_version": "1.5.0",
          "state": {
            "_model_module": "@jupyter-widgets/controls",
            "_model_module_version": "1.5.0",
            "_model_name": "DescriptionStyleModel",
            "_view_count": null,
            "_view_module": "@jupyter-widgets/base",
            "_view_module_version": "1.2.0",
            "_view_name": "StyleView",
            "description_width": ""
          }
        },
        "897ad846cfa947c88d311d742cae7561": {
          "model_module": "@jupyter-widgets/controls",
          "model_name": "HBoxModel",
          "model_module_version": "1.5.0",
          "state": {
            "_dom_classes": [],
            "_model_module": "@jupyter-widgets/controls",
            "_model_module_version": "1.5.0",
            "_model_name": "HBoxModel",
            "_view_count": null,
            "_view_module": "@jupyter-widgets/controls",
            "_view_module_version": "1.5.0",
            "_view_name": "HBoxView",
            "box_style": "",
            "children": [
              "IPY_MODEL_a26bc79ba64b4229af295a868b0a0dd6",
              "IPY_MODEL_4d36f790533c429f985a087a9a7dfd85",
              "IPY_MODEL_80bf0c8e26704f749361b15aaa738519"
            ],
            "layout": "IPY_MODEL_263d0cdafdde4648ad0845f1f54d50dc"
          }
        },
        "a26bc79ba64b4229af295a868b0a0dd6": {
          "model_module": "@jupyter-widgets/controls",
          "model_name": "HTMLModel",
          "model_module_version": "1.5.0",
          "state": {
            "_dom_classes": [],
            "_model_module": "@jupyter-widgets/controls",
            "_model_module_version": "1.5.0",
            "_model_name": "HTMLModel",
            "_view_count": null,
            "_view_module": "@jupyter-widgets/controls",
            "_view_module_version": "1.5.0",
            "_view_name": "HTMLView",
            "description": "",
            "description_tooltip": null,
            "layout": "IPY_MODEL_d90906aacd1a4deaa54eecb4dc1b8526",
            "placeholder": "​",
            "style": "IPY_MODEL_7b97da18601b4dbca25a344fded8d1a9",
            "value": "Generating train split: "
          }
        },
        "4d36f790533c429f985a087a9a7dfd85": {
          "model_module": "@jupyter-widgets/controls",
          "model_name": "FloatProgressModel",
          "model_module_version": "1.5.0",
          "state": {
            "_dom_classes": [],
            "_model_module": "@jupyter-widgets/controls",
            "_model_module_version": "1.5.0",
            "_model_name": "FloatProgressModel",
            "_view_count": null,
            "_view_module": "@jupyter-widgets/controls",
            "_view_module_version": "1.5.0",
            "_view_name": "ProgressView",
            "bar_style": "success",
            "description": "",
            "description_tooltip": null,
            "layout": "IPY_MODEL_83efd10e1b8343bb8b3dd56e0e27a77e",
            "max": 1,
            "min": 0,
            "orientation": "horizontal",
            "style": "IPY_MODEL_54ab4902546a4610a672e172dca13d4e",
            "value": 1
          }
        },
        "80bf0c8e26704f749361b15aaa738519": {
          "model_module": "@jupyter-widgets/controls",
          "model_name": "HTMLModel",
          "model_module_version": "1.5.0",
          "state": {
            "_dom_classes": [],
            "_model_module": "@jupyter-widgets/controls",
            "_model_module_version": "1.5.0",
            "_model_name": "HTMLModel",
            "_view_count": null,
            "_view_module": "@jupyter-widgets/controls",
            "_view_module_version": "1.5.0",
            "_view_name": "HTMLView",
            "description": "",
            "description_tooltip": null,
            "layout": "IPY_MODEL_df44c9a00ee4498dbaec50bb41942191",
            "placeholder": "​",
            "style": "IPY_MODEL_77008424287d454595f35888bc7a3e2a",
            "value": " 264905/0 [00:09&lt;00:00, 32767.43 examples/s]"
          }
        },
        "263d0cdafdde4648ad0845f1f54d50dc": {
          "model_module": "@jupyter-widgets/base",
          "model_name": "LayoutModel",
          "model_module_version": "1.2.0",
          "state": {
            "_model_module": "@jupyter-widgets/base",
            "_model_module_version": "1.2.0",
            "_model_name": "LayoutModel",
            "_view_count": null,
            "_view_module": "@jupyter-widgets/base",
            "_view_module_version": "1.2.0",
            "_view_name": "LayoutView",
            "align_content": null,
            "align_items": null,
            "align_self": null,
            "border": null,
            "bottom": null,
            "display": null,
            "flex": null,
            "flex_flow": null,
            "grid_area": null,
            "grid_auto_columns": null,
            "grid_auto_flow": null,
            "grid_auto_rows": null,
            "grid_column": null,
            "grid_gap": null,
            "grid_row": null,
            "grid_template_areas": null,
            "grid_template_columns": null,
            "grid_template_rows": null,
            "height": null,
            "justify_content": null,
            "justify_items": null,
            "left": null,
            "margin": null,
            "max_height": null,
            "max_width": null,
            "min_height": null,
            "min_width": null,
            "object_fit": null,
            "object_position": null,
            "order": null,
            "overflow": null,
            "overflow_x": null,
            "overflow_y": null,
            "padding": null,
            "right": null,
            "top": null,
            "visibility": null,
            "width": null
          }
        },
        "d90906aacd1a4deaa54eecb4dc1b8526": {
          "model_module": "@jupyter-widgets/base",
          "model_name": "LayoutModel",
          "model_module_version": "1.2.0",
          "state": {
            "_model_module": "@jupyter-widgets/base",
            "_model_module_version": "1.2.0",
            "_model_name": "LayoutModel",
            "_view_count": null,
            "_view_module": "@jupyter-widgets/base",
            "_view_module_version": "1.2.0",
            "_view_name": "LayoutView",
            "align_content": null,
            "align_items": null,
            "align_self": null,
            "border": null,
            "bottom": null,
            "display": null,
            "flex": null,
            "flex_flow": null,
            "grid_area": null,
            "grid_auto_columns": null,
            "grid_auto_flow": null,
            "grid_auto_rows": null,
            "grid_column": null,
            "grid_gap": null,
            "grid_row": null,
            "grid_template_areas": null,
            "grid_template_columns": null,
            "grid_template_rows": null,
            "height": null,
            "justify_content": null,
            "justify_items": null,
            "left": null,
            "margin": null,
            "max_height": null,
            "max_width": null,
            "min_height": null,
            "min_width": null,
            "object_fit": null,
            "object_position": null,
            "order": null,
            "overflow": null,
            "overflow_x": null,
            "overflow_y": null,
            "padding": null,
            "right": null,
            "top": null,
            "visibility": null,
            "width": null
          }
        },
        "7b97da18601b4dbca25a344fded8d1a9": {
          "model_module": "@jupyter-widgets/controls",
          "model_name": "DescriptionStyleModel",
          "model_module_version": "1.5.0",
          "state": {
            "_model_module": "@jupyter-widgets/controls",
            "_model_module_version": "1.5.0",
            "_model_name": "DescriptionStyleModel",
            "_view_count": null,
            "_view_module": "@jupyter-widgets/base",
            "_view_module_version": "1.2.0",
            "_view_name": "StyleView",
            "description_width": ""
          }
        },
        "83efd10e1b8343bb8b3dd56e0e27a77e": {
          "model_module": "@jupyter-widgets/base",
          "model_name": "LayoutModel",
          "model_module_version": "1.2.0",
          "state": {
            "_model_module": "@jupyter-widgets/base",
            "_model_module_version": "1.2.0",
            "_model_name": "LayoutModel",
            "_view_count": null,
            "_view_module": "@jupyter-widgets/base",
            "_view_module_version": "1.2.0",
            "_view_name": "LayoutView",
            "align_content": null,
            "align_items": null,
            "align_self": null,
            "border": null,
            "bottom": null,
            "display": null,
            "flex": null,
            "flex_flow": null,
            "grid_area": null,
            "grid_auto_columns": null,
            "grid_auto_flow": null,
            "grid_auto_rows": null,
            "grid_column": null,
            "grid_gap": null,
            "grid_row": null,
            "grid_template_areas": null,
            "grid_template_columns": null,
            "grid_template_rows": null,
            "height": null,
            "justify_content": null,
            "justify_items": null,
            "left": null,
            "margin": null,
            "max_height": null,
            "max_width": null,
            "min_height": null,
            "min_width": null,
            "object_fit": null,
            "object_position": null,
            "order": null,
            "overflow": null,
            "overflow_x": null,
            "overflow_y": null,
            "padding": null,
            "right": null,
            "top": null,
            "visibility": null,
            "width": "20px"
          }
        },
        "54ab4902546a4610a672e172dca13d4e": {
          "model_module": "@jupyter-widgets/controls",
          "model_name": "ProgressStyleModel",
          "model_module_version": "1.5.0",
          "state": {
            "_model_module": "@jupyter-widgets/controls",
            "_model_module_version": "1.5.0",
            "_model_name": "ProgressStyleModel",
            "_view_count": null,
            "_view_module": "@jupyter-widgets/base",
            "_view_module_version": "1.2.0",
            "_view_name": "StyleView",
            "bar_color": null,
            "description_width": ""
          }
        },
        "df44c9a00ee4498dbaec50bb41942191": {
          "model_module": "@jupyter-widgets/base",
          "model_name": "LayoutModel",
          "model_module_version": "1.2.0",
          "state": {
            "_model_module": "@jupyter-widgets/base",
            "_model_module_version": "1.2.0",
            "_model_name": "LayoutModel",
            "_view_count": null,
            "_view_module": "@jupyter-widgets/base",
            "_view_module_version": "1.2.0",
            "_view_name": "LayoutView",
            "align_content": null,
            "align_items": null,
            "align_self": null,
            "border": null,
            "bottom": null,
            "display": null,
            "flex": null,
            "flex_flow": null,
            "grid_area": null,
            "grid_auto_columns": null,
            "grid_auto_flow": null,
            "grid_auto_rows": null,
            "grid_column": null,
            "grid_gap": null,
            "grid_row": null,
            "grid_template_areas": null,
            "grid_template_columns": null,
            "grid_template_rows": null,
            "height": null,
            "justify_content": null,
            "justify_items": null,
            "left": null,
            "margin": null,
            "max_height": null,
            "max_width": null,
            "min_height": null,
            "min_width": null,
            "object_fit": null,
            "object_position": null,
            "order": null,
            "overflow": null,
            "overflow_x": null,
            "overflow_y": null,
            "padding": null,
            "right": null,
            "top": null,
            "visibility": null,
            "width": null
          }
        },
        "77008424287d454595f35888bc7a3e2a": {
          "model_module": "@jupyter-widgets/controls",
          "model_name": "DescriptionStyleModel",
          "model_module_version": "1.5.0",
          "state": {
            "_model_module": "@jupyter-widgets/controls",
            "_model_module_version": "1.5.0",
            "_model_name": "DescriptionStyleModel",
            "_view_count": null,
            "_view_module": "@jupyter-widgets/base",
            "_view_module_version": "1.2.0",
            "_view_name": "StyleView",
            "description_width": ""
          }
        }
      }
    },
    "accelerator": "GPU"
  },
  "cells": [
    {
      "cell_type": "markdown",
      "metadata": {
        "id": "view-in-github",
        "colab_type": "text"
      },
      "source": [
        "<a href=\"https://colab.research.google.com/github/Sylou2022/NLP---Translation/blob/main/seq2seq_traduction.ipynb\" target=\"_parent\"><img src=\"https://colab.research.google.com/assets/colab-badge.svg\" alt=\"Open In Colab\"/></a>"
      ]
    },
    {
      "cell_type": "code",
      "execution_count": 1,
      "metadata": {
        "colab": {
          "base_uri": "https://localhost:8080/"
        },
        "id": "eVlV43ou7ELr",
        "outputId": "506e6c80-031e-49e1-dd14-9aa0e16b04b2"
      },
      "outputs": [
        {
          "output_type": "stream",
          "name": "stdout",
          "text": [
            "Collecting datasets\n",
            "  Downloading datasets-2.20.0-py3-none-any.whl (547 kB)\n",
            "\u001b[2K     \u001b[90m━━━━━━━━━━━━━━━━━━━━━━━━━━━━━━━━━━━━━━━━\u001b[0m \u001b[32m547.8/547.8 kB\u001b[0m \u001b[31m4.6 MB/s\u001b[0m eta \u001b[36m0:00:00\u001b[0m\n",
            "\u001b[?25hRequirement already satisfied: filelock in /usr/local/lib/python3.10/dist-packages (from datasets) (3.14.0)\n",
            "Requirement already satisfied: numpy>=1.17 in /usr/local/lib/python3.10/dist-packages (from datasets) (1.25.2)\n",
            "Collecting pyarrow>=15.0.0 (from datasets)\n",
            "  Downloading pyarrow-16.1.0-cp310-cp310-manylinux_2_28_x86_64.whl (40.8 MB)\n",
            "\u001b[2K     \u001b[90m━━━━━━━━━━━━━━━━━━━━━━━━━━━━━━━━━━━━━━━━\u001b[0m \u001b[32m40.8/40.8 MB\u001b[0m \u001b[31m11.0 MB/s\u001b[0m eta \u001b[36m0:00:00\u001b[0m\n",
            "\u001b[?25hRequirement already satisfied: pyarrow-hotfix in /usr/local/lib/python3.10/dist-packages (from datasets) (0.6)\n",
            "Collecting dill<0.3.9,>=0.3.0 (from datasets)\n",
            "  Downloading dill-0.3.8-py3-none-any.whl (116 kB)\n",
            "\u001b[2K     \u001b[90m━━━━━━━━━━━━━━━━━━━━━━━━━━━━━━━━━━━━━━━━\u001b[0m \u001b[32m116.3/116.3 kB\u001b[0m \u001b[31m10.5 MB/s\u001b[0m eta \u001b[36m0:00:00\u001b[0m\n",
            "\u001b[?25hRequirement already satisfied: pandas in /usr/local/lib/python3.10/dist-packages (from datasets) (2.0.3)\n",
            "Collecting requests>=2.32.2 (from datasets)\n",
            "  Downloading requests-2.32.3-py3-none-any.whl (64 kB)\n",
            "\u001b[2K     \u001b[90m━━━━━━━━━━━━━━━━━━━━━━━━━━━━━━━━━━━━━━━━\u001b[0m \u001b[32m64.9/64.9 kB\u001b[0m \u001b[31m4.0 MB/s\u001b[0m eta \u001b[36m0:00:00\u001b[0m\n",
            "\u001b[?25hRequirement already satisfied: tqdm>=4.66.3 in /usr/local/lib/python3.10/dist-packages (from datasets) (4.66.4)\n",
            "Collecting xxhash (from datasets)\n",
            "  Downloading xxhash-3.4.1-cp310-cp310-manylinux_2_17_x86_64.manylinux2014_x86_64.whl (194 kB)\n",
            "\u001b[2K     \u001b[90m━━━━━━━━━━━━━━━━━━━━━━━━━━━━━━━━━━━━━━━━\u001b[0m \u001b[32m194.1/194.1 kB\u001b[0m \u001b[31m8.3 MB/s\u001b[0m eta \u001b[36m0:00:00\u001b[0m\n",
            "\u001b[?25hCollecting multiprocess (from datasets)\n",
            "  Downloading multiprocess-0.70.16-py310-none-any.whl (134 kB)\n",
            "\u001b[2K     \u001b[90m━━━━━━━━━━━━━━━━━━━━━━━━━━━━━━━━━━━━━━━━\u001b[0m \u001b[32m134.8/134.8 kB\u001b[0m \u001b[31m13.7 MB/s\u001b[0m eta \u001b[36m0:00:00\u001b[0m\n",
            "\u001b[?25hRequirement already satisfied: fsspec[http]<=2024.5.0,>=2023.1.0 in /usr/local/lib/python3.10/dist-packages (from datasets) (2023.6.0)\n",
            "Requirement already satisfied: aiohttp in /usr/local/lib/python3.10/dist-packages (from datasets) (3.9.5)\n",
            "Requirement already satisfied: huggingface-hub>=0.21.2 in /usr/local/lib/python3.10/dist-packages (from datasets) (0.23.3)\n",
            "Requirement already satisfied: packaging in /usr/local/lib/python3.10/dist-packages (from datasets) (24.1)\n",
            "Requirement already satisfied: pyyaml>=5.1 in /usr/local/lib/python3.10/dist-packages (from datasets) (6.0.1)\n",
            "Requirement already satisfied: aiosignal>=1.1.2 in /usr/local/lib/python3.10/dist-packages (from aiohttp->datasets) (1.3.1)\n",
            "Requirement already satisfied: attrs>=17.3.0 in /usr/local/lib/python3.10/dist-packages (from aiohttp->datasets) (23.2.0)\n",
            "Requirement already satisfied: frozenlist>=1.1.1 in /usr/local/lib/python3.10/dist-packages (from aiohttp->datasets) (1.4.1)\n",
            "Requirement already satisfied: multidict<7.0,>=4.5 in /usr/local/lib/python3.10/dist-packages (from aiohttp->datasets) (6.0.5)\n",
            "Requirement already satisfied: yarl<2.0,>=1.0 in /usr/local/lib/python3.10/dist-packages (from aiohttp->datasets) (1.9.4)\n",
            "Requirement already satisfied: async-timeout<5.0,>=4.0 in /usr/local/lib/python3.10/dist-packages (from aiohttp->datasets) (4.0.3)\n",
            "Requirement already satisfied: typing-extensions>=3.7.4.3 in /usr/local/lib/python3.10/dist-packages (from huggingface-hub>=0.21.2->datasets) (4.12.2)\n",
            "Requirement already satisfied: charset-normalizer<4,>=2 in /usr/local/lib/python3.10/dist-packages (from requests>=2.32.2->datasets) (3.3.2)\n",
            "Requirement already satisfied: idna<4,>=2.5 in /usr/local/lib/python3.10/dist-packages (from requests>=2.32.2->datasets) (3.7)\n",
            "Requirement already satisfied: urllib3<3,>=1.21.1 in /usr/local/lib/python3.10/dist-packages (from requests>=2.32.2->datasets) (2.0.7)\n",
            "Requirement already satisfied: certifi>=2017.4.17 in /usr/local/lib/python3.10/dist-packages (from requests>=2.32.2->datasets) (2024.6.2)\n",
            "Requirement already satisfied: python-dateutil>=2.8.2 in /usr/local/lib/python3.10/dist-packages (from pandas->datasets) (2.8.2)\n",
            "Requirement already satisfied: pytz>=2020.1 in /usr/local/lib/python3.10/dist-packages (from pandas->datasets) (2023.4)\n",
            "Requirement already satisfied: tzdata>=2022.1 in /usr/local/lib/python3.10/dist-packages (from pandas->datasets) (2024.1)\n",
            "Requirement already satisfied: six>=1.5 in /usr/local/lib/python3.10/dist-packages (from python-dateutil>=2.8.2->pandas->datasets) (1.16.0)\n",
            "Installing collected packages: xxhash, requests, pyarrow, dill, multiprocess, datasets\n",
            "  Attempting uninstall: requests\n",
            "    Found existing installation: requests 2.31.0\n",
            "    Uninstalling requests-2.31.0:\n",
            "      Successfully uninstalled requests-2.31.0\n",
            "  Attempting uninstall: pyarrow\n",
            "    Found existing installation: pyarrow 14.0.2\n",
            "    Uninstalling pyarrow-14.0.2:\n",
            "      Successfully uninstalled pyarrow-14.0.2\n",
            "\u001b[31mERROR: pip's dependency resolver does not currently take into account all the packages that are installed. This behaviour is the source of the following dependency conflicts.\n",
            "cudf-cu12 24.4.1 requires pyarrow<15.0.0a0,>=14.0.1, but you have pyarrow 16.1.0 which is incompatible.\n",
            "google-colab 1.0.0 requires requests==2.31.0, but you have requests 2.32.3 which is incompatible.\n",
            "ibis-framework 8.0.0 requires pyarrow<16,>=2, but you have pyarrow 16.1.0 which is incompatible.\u001b[0m\u001b[31m\n",
            "\u001b[0mSuccessfully installed datasets-2.20.0 dill-0.3.8 multiprocess-0.70.16 pyarrow-16.1.0 requests-2.32.3 xxhash-3.4.1\n"
          ]
        }
      ],
      "source": [
        "!pip install datasets"
      ]
    },
    {
      "cell_type": "code",
      "source": [
        "from datasets import load_dataset\n",
        "from keras.preprocessing.text import Tokenizer\n",
        "from keras.preprocessing.sequence import pad_sequences\n",
        "import matplotlib.pyplot as plt\n",
        "from sklearn.model_selection import train_test_split\n",
        "import numpy"
      ],
      "metadata": {
        "id": "KihjGqOu7ajv"
      },
      "execution_count": 2,
      "outputs": []
    },
    {
      "cell_type": "markdown",
      "source": [
        "# Data preparation"
      ],
      "metadata": {
        "id": "RTawin-DvGrL"
      }
    },
    {
      "cell_type": "code",
      "source": [
        "dataset = load_dataset(\"tatoeba\", lang1=\"en\", lang2=\"fr\")"
      ],
      "metadata": {
        "colab": {
          "base_uri": "https://localhost:8080/",
          "height": 319,
          "referenced_widgets": [
            "63d3e475139c4eea83f97cb223b25a5a",
            "b516e9e7165649c79d66a28aad07286e",
            "1d0da855e5cf4ce9b845896a600bae42",
            "dadaff309dda4eb29e857667e146916f",
            "8205f4b367be4ca5b375e5bea44ba5ee",
            "bc23f62ae39a413b9fe41e50355ecc22",
            "1c4964f488a241858d98461ddb6fa170",
            "d9808f1f964d4de9a70f43d5b046872e",
            "53f9e33897344fcebbedc3df6555367c",
            "8424059e10e24bdebe711c583b7bf162",
            "f866048adcf3453bab98cefe97361788",
            "f2e3d5a4dc7e40839d2ee7e8d966a08e",
            "042f2dbcbf82496a8392115760ba61c0",
            "79abeeac317d4339af7353e4f5a41410",
            "dff037af5abe4b0093b8c10b8e612943",
            "05010b34b73941159ffbc17ee8b56980",
            "03182a879b6641e48245c7e69dfe6715",
            "6049deaafa634cfd80729530bb3bd237",
            "783a70f6f0f64acc84f262f276657654",
            "16ac9cd2ffef4e8ca8c962dfe647476f",
            "e4a7564e72db4a6ca83cfc0839abb94e",
            "ddd5fd6fa81e4d4f8af000079ac3eff2",
            "9a7fb6c9a5ae4f4c82a72bda8b49afb5",
            "1c56d0ecaf1a47ce859cac2b536cfddc",
            "3fd4a59678d54ff6b3a1130bcc522388",
            "b885c28fd2a249a19c0b635d461cf024",
            "dd7ee97f0bce483c858eda766135595a",
            "91c59913b4394c17b71e6e21fd320d95",
            "a7edf54e5b7a487faadbf245d83a41bf",
            "5ac058c2c0be40c9ab9daeb7c98d018a",
            "dffaa6f269484801b06afa4386f8e355",
            "81e6028a10664a218f71dc42a66c5e93",
            "1cf2383e2f4a4d9daca2109c9b22f35f",
            "897ad846cfa947c88d311d742cae7561",
            "a26bc79ba64b4229af295a868b0a0dd6",
            "4d36f790533c429f985a087a9a7dfd85",
            "80bf0c8e26704f749361b15aaa738519",
            "263d0cdafdde4648ad0845f1f54d50dc",
            "d90906aacd1a4deaa54eecb4dc1b8526",
            "7b97da18601b4dbca25a344fded8d1a9",
            "83efd10e1b8343bb8b3dd56e0e27a77e",
            "54ab4902546a4610a672e172dca13d4e",
            "df44c9a00ee4498dbaec50bb41942191",
            "77008424287d454595f35888bc7a3e2a"
          ]
        },
        "id": "kcI0O_iV7iOd",
        "outputId": "5115ad3b-b934-4d0b-abf0-b4e32ee8295f"
      },
      "execution_count": 3,
      "outputs": [
        {
          "output_type": "stream",
          "name": "stderr",
          "text": [
            "/usr/local/lib/python3.10/dist-packages/huggingface_hub/utils/_token.py:89: UserWarning: \n",
            "The secret `HF_TOKEN` does not exist in your Colab secrets.\n",
            "To authenticate with the Hugging Face Hub, create a token in your settings tab (https://huggingface.co/settings/tokens), set it as secret in your Google Colab and restart your session.\n",
            "You will be able to reuse this secret in all of your notebooks.\n",
            "Please note that authentication is recommended but still optional to access public models or datasets.\n",
            "  warnings.warn(\n"
          ]
        },
        {
          "output_type": "display_data",
          "data": {
            "text/plain": [
              "Downloading builder script:   0%|          | 0.00/4.41k [00:00<?, ?B/s]"
            ],
            "application/vnd.jupyter.widget-view+json": {
              "version_major": 2,
              "version_minor": 0,
              "model_id": "63d3e475139c4eea83f97cb223b25a5a"
            }
          },
          "metadata": {}
        },
        {
          "output_type": "display_data",
          "data": {
            "text/plain": [
              "Downloading readme:   0%|          | 0.00/8.93k [00:00<?, ?B/s]"
            ],
            "application/vnd.jupyter.widget-view+json": {
              "version_major": 2,
              "version_minor": 0,
              "model_id": "f2e3d5a4dc7e40839d2ee7e8d966a08e"
            }
          },
          "metadata": {}
        },
        {
          "name": "stdout",
          "output_type": "stream",
          "text": [
            "The repository for tatoeba contains custom code which must be executed to correctly load the dataset. You can inspect the repository content at https://hf.co/datasets/tatoeba.\n",
            "You can avoid this prompt in future by passing the argument `trust_remote_code=True`.\n",
            "\n",
            "Do you wish to run the custom code? [y/N] y\n"
          ]
        },
        {
          "output_type": "display_data",
          "data": {
            "text/plain": [
              "Downloading data:   0%|          | 0.00/7.83M [00:00<?, ?B/s]"
            ],
            "application/vnd.jupyter.widget-view+json": {
              "version_major": 2,
              "version_minor": 0,
              "model_id": "9a7fb6c9a5ae4f4c82a72bda8b49afb5"
            }
          },
          "metadata": {}
        },
        {
          "output_type": "display_data",
          "data": {
            "text/plain": [
              "Generating train split: 0 examples [00:00, ? examples/s]"
            ],
            "application/vnd.jupyter.widget-view+json": {
              "version_major": 2,
              "version_minor": 0,
              "model_id": "897ad846cfa947c88d311d742cae7561"
            }
          },
          "metadata": {}
        }
      ]
    },
    {
      "cell_type": "code",
      "source": [
        "english_sentences = []\n",
        "french_sentences = []\n",
        "for exemple in dataset[\"train\"][\"translation\"]:\n",
        "  english_sentences.append(exemple[\"en\"])\n",
        "  french_sentences.append(f'<sos> {exemple[\"fr\"]} <eos>')"
      ],
      "metadata": {
        "id": "IAbxjbvu7p0s"
      },
      "execution_count": 4,
      "outputs": []
    },
    {
      "cell_type": "code",
      "source": [
        "french_sentences[0]"
      ],
      "metadata": {
        "colab": {
          "base_uri": "https://localhost:8080/",
          "height": 35
        },
        "id": "bbN1KSym856q",
        "outputId": "b34466e7-2575-4be3-cdf6-83023214976c"
      },
      "execution_count": 5,
      "outputs": [
        {
          "output_type": "execute_result",
          "data": {
            "text/plain": [
              "\"<sos> Lorsqu'il a demandé qui avait cassé la fenêtre, tous les garçons ont pris un air innocent. <eos>\""
            ],
            "application/vnd.google.colaboratory.intrinsic+json": {
              "type": "string"
            }
          },
          "metadata": {},
          "execution_count": 5
        }
      ]
    },
    {
      "cell_type": "code",
      "source": [
        "english_tokenizer = Tokenizer(5000)\n",
        "english_tokenizer.fit_on_texts(english_sentences)\n",
        "english_sentences_tokenized = english_tokenizer.texts_to_sequences(english_sentences)"
      ],
      "metadata": {
        "id": "hmrMMD-s9cK2"
      },
      "execution_count": 6,
      "outputs": []
    },
    {
      "cell_type": "code",
      "source": [
        "english_sentences[100]"
      ],
      "metadata": {
        "colab": {
          "base_uri": "https://localhost:8080/",
          "height": 35
        },
        "id": "YTPhzRUC_TB2",
        "outputId": "e4e65c73-21aa-47f9-854b-0ee397017448"
      },
      "execution_count": 7,
      "outputs": [
        {
          "output_type": "execute_result",
          "data": {
            "text/plain": [
              "'Hurry up.'"
            ],
            "application/vnd.google.colaboratory.intrinsic+json": {
              "type": "string"
            }
          },
          "metadata": {},
          "execution_count": 7
        }
      ]
    },
    {
      "cell_type": "code",
      "source": [
        "english_sentences_tokenized[100]"
      ],
      "metadata": {
        "colab": {
          "base_uri": "https://localhost:8080/"
        },
        "id": "wGDYM2YQ-FOw",
        "outputId": "a5a70806-1cdf-4eaa-f90d-db81d62d6729"
      },
      "execution_count": 8,
      "outputs": [
        {
          "output_type": "execute_result",
          "data": {
            "text/plain": [
              "[554, 60]"
            ]
          },
          "metadata": {},
          "execution_count": 8
        }
      ]
    },
    {
      "cell_type": "code",
      "source": [
        "lengths = [len(english_list_of_tokens) for english_list_of_tokens in english_sentences_tokenized]\n",
        "\n",
        "plt.hist(lengths, bins=150, edgecolor=\"black\")\n",
        "plt.xlabel(\"Length\")\n",
        "plt.ylabel(\"Number of sentences\")\n",
        "plt.show()"
      ],
      "metadata": {
        "colab": {
          "base_uri": "https://localhost:8080/",
          "height": 449
        },
        "id": "8skFzdpl_qS6",
        "outputId": "cc0bccbd-bf0a-445e-fc75-f8314e04b2ce"
      },
      "execution_count": 9,
      "outputs": [
        {
          "output_type": "display_data",
          "data": {
            "text/plain": [
              "<Figure size 640x480 with 1 Axes>"
            ],
            "image/png": "[encoded data removed]"
          },
          "metadata": {}
        }
      ]
    },
    {
      "cell_type": "code",
      "source": [
        "english_sentences_tokenized = pad_sequences(english_sentences_tokenized, padding=\"post\", maxlen=30)"
      ],
      "metadata": {
        "id": "4TAst3QJBkHD"
      },
      "execution_count": 10,
      "outputs": []
    },
    {
      "cell_type": "code",
      "source": [
        "french_tokenizer = Tokenizer(5000)\n",
        "french_tokenizer.fit_on_texts(french_sentences)\n",
        "french_sentences_tokenized = french_tokenizer.texts_to_sequences(french_sentences)"
      ],
      "metadata": {
        "id": "THxyaY2fAelP"
      },
      "execution_count": 11,
      "outputs": []
    },
    {
      "cell_type": "code",
      "source": [
        "encoder_input_data = english_sentences_tokenized\n",
        "decoder_input_data = [tokenized_sentence[:-1] for tokenized_sentence in french_sentences_tokenized]\n",
        "\n",
        "\n",
        "\n",
        "\n",
        "target_data = [tokenized_sentence[1: ] for tokenized_sentence in french_sentences_tokenized]"
      ],
      "metadata": {
        "id": "c1sSBgYfsMUN"
      },
      "execution_count": 12,
      "outputs": []
    },
    {
      "cell_type": "code",
      "source": [
        "print(decoder_input_data[0])\n",
        "print(target_data[0])"
      ],
      "metadata": {
        "colab": {
          "base_uri": "https://localhost:8080/"
        },
        "id": "vRdUWJcps9-H",
        "outputId": "8c0dd3e6-c12a-4669-9017-67dcc7813341"
      },
      "execution_count": 13,
      "outputs": [
        {
          "output_type": "stream",
          "name": "stdout",
          "text": [
            "[1, 1177, 17, 275, 35, 123, 969, 6, 532, 85, 18, 915, 88, 224, 15, 2208, 2166]\n",
            "[1177, 17, 275, 35, 123, 969, 6, 532, 85, 18, 915, 88, 224, 15, 2208, 2166, 2]\n"
          ]
        }
      ]
    },
    {
      "cell_type": "code",
      "source": [
        "lengths = [len(french_list_of_tokens) for french_list_of_tokens in french_sentences_tokenized]\n",
        "\n",
        "plt.hist(lengths, bins=150, edgecolor=\"black\")\n",
        "plt.xlabel(\"Length\")\n",
        "plt.ylabel(\"Number of sentences\")\n",
        "plt.show()"
      ],
      "metadata": {
        "colab": {
          "base_uri": "https://localhost:8080/",
          "height": 449
        },
        "id": "7vkVNj4lt6zz",
        "outputId": "8aa2788b-8a31-4843-db12-fd54c45f7359"
      },
      "execution_count": 14,
      "outputs": [
        {
          "output_type": "display_data",
          "data": {
            "text/plain": [
              "<Figure size 640x480 with 1 Axes>"
            ],
            "image/png": "[encoded data removed]"
          },
          "metadata": {}
        }
      ]
    },
    {
      "cell_type": "code",
      "source": [
        "decoder_input_data = pad_sequences(decoder_input_data, padding=\"post\", maxlen=30)"
      ],
      "metadata": {
        "id": "CBTYitufukvk"
      },
      "execution_count": 15,
      "outputs": []
    },
    {
      "cell_type": "code",
      "source": [
        "target_data = pad_sequences(target_data, padding=\"post\", maxlen=30)"
      ],
      "metadata": {
        "id": "lQ8nVfLRusRu"
      },
      "execution_count": 16,
      "outputs": []
    },
    {
      "cell_type": "code",
      "source": [
        "decoder_input_data[0]"
      ],
      "metadata": {
        "colab": {
          "base_uri": "https://localhost:8080/"
        },
        "id": "KXmg3I_vu1Dx",
        "outputId": "1a61efa7-2f6a-4a74-9dc1-8737a495e702"
      },
      "execution_count": 17,
      "outputs": [
        {
          "output_type": "execute_result",
          "data": {
            "text/plain": [
              "array([   1, 1177,   17,  275,   35,  123,  969,    6,  532,   85,   18,\n",
              "        915,   88,  224,   15, 2208, 2166,    0,    0,    0,    0,    0,\n",
              "          0,    0,    0,    0,    0,    0,    0,    0], dtype=int32)"
            ]
          },
          "metadata": {},
          "execution_count": 17
        }
      ]
    },
    {
      "cell_type": "code",
      "source": [
        "target_data[0]"
      ],
      "metadata": {
        "colab": {
          "base_uri": "https://localhost:8080/"
        },
        "id": "nfQ-w2JIu6CX",
        "outputId": "8e04209b-3521-4805-8db2-14a9aa6c82f8"
      },
      "execution_count": 18,
      "outputs": [
        {
          "output_type": "execute_result",
          "data": {
            "text/plain": [
              "array([1177,   17,  275,   35,  123,  969,    6,  532,   85,   18,  915,\n",
              "         88,  224,   15, 2208, 2166,    2,    0,    0,    0,    0,    0,\n",
              "          0,    0,    0,    0,    0,    0,    0,    0], dtype=int32)"
            ]
          },
          "metadata": {},
          "execution_count": 18
        }
      ]
    },
    {
      "cell_type": "code",
      "source": [
        "target_data = target_data[..., None]"
      ],
      "metadata": {
        "id": "ckwrX5CPvn8A"
      },
      "execution_count": 19,
      "outputs": []
    },
    {
      "cell_type": "markdown",
      "source": [
        "## split"
      ],
      "metadata": {
        "id": "k7V3j2QzwpuI"
      }
    },
    {
      "cell_type": "code",
      "source": [
        "dataset_length = len(encoder_input_data)\n",
        "train_length = int(dataset_length * 0.8)\n",
        "test_length = dataset_length - train_length\n",
        "\n",
        "train_encoder_input_data = encoder_input_data[:train_length]\n",
        "train_decoder_input_data = decoder_input_data[:train_length]\n",
        "train_target_data = target_data[:train_length]\n",
        "\n",
        "test_encoder_input_data = encoder_input_data[train_length:]\n",
        "test_decoder_input_data = decoder_input_data[train_length:]\n",
        "test_target_data = target_data[train_length:]"
      ],
      "metadata": {
        "id": "DMbGc_tgwrrI"
      },
      "execution_count": 20,
      "outputs": []
    },
    {
      "cell_type": "markdown",
      "source": [
        "# Model"
      ],
      "metadata": {
        "id": "owVitGE4vMEe"
      }
    },
    {
      "cell_type": "code",
      "source": [
        "from tensorflow import keras\n",
        "\n",
        "def generate_seq2seq_lstm_model(latent_dim=128, num_encoder_tokens=5000, num_decoder_tokens=5000, embedding_dim=128):\n",
        "    # Encoder\n",
        "    encoder_input = keras.layers.Input(shape=(None,), name=\"encoder_input\")\n",
        "\n",
        "    encoder_embedding = keras.layers.Embedding(num_encoder_tokens, embedding_dim, name=\"encoder_embedding\")(encoder_input)\n",
        "\n",
        "    encoder_lstm = keras.layers.LSTM(latent_dim, return_state=True, name=\"encoder_lstm\")\n",
        "    _, state_h, state_c = encoder_lstm(encoder_embedding)\n",
        "    context_vector = [state_h, state_c]\n",
        "\n",
        "    # decoder\n",
        "\n",
        "    decoder_input = keras.layers.Input(shape=(None,), name=\"decoder_input\")\n",
        "\n",
        "\n",
        "    decoder_embedding = keras.layers.Embedding(num_decoder_tokens, embedding_dim, name=\"decoder_embedding\")(decoder_input)\n",
        "    decoder_lstm = keras.layers.LSTM(latent_dim, return_state=True, return_sequences=True, name=\"decoder_lstm\")\n",
        "\n",
        "    decoder_outputs, _, _ = decoder_lstm(decoder_embedding, initial_state=context_vector)\n",
        "\n",
        "\n",
        "    decoder_dense = keras.layers.Dense(num_decoder_tokens, activation=\"softmax\", name=\"output_layer\")\n",
        "    model_outputs = decoder_dense(decoder_outputs)\n",
        "\n",
        "    model = keras.models.Model([encoder_input, decoder_input], [model_outputs])\n",
        "\n",
        "\n",
        "    model.compile(optimizer=\"adam\", loss=\"sparse_categorical_crossentropy\", metrics=[\"accuracy\"])\n",
        "\n",
        "    return model"
      ],
      "metadata": {
        "id": "Gs8yZ950vLdq"
      },
      "execution_count": 21,
      "outputs": []
    },
    {
      "cell_type": "code",
      "source": [
        "model = generate_seq2seq_lstm_model()\n",
        "model.summary()"
      ],
      "metadata": {
        "colab": {
          "base_uri": "https://localhost:8080/"
        },
        "id": "PtNzP9i4-oLX",
        "outputId": "71397899-e1ff-4ba9-a16b-32e55b333505"
      },
      "execution_count": 22,
      "outputs": [
        {
          "output_type": "stream",
          "name": "stdout",
          "text": [
            "Model: \"model\"\n",
            "__________________________________________________________________________________________________\n",
            " Layer (type)                Output Shape                 Param #   Connected to                  \n",
            "==================================================================================================\n",
            " encoder_input (InputLayer)  [(None, None)]               0         []                            \n",
            "                                                                                                  \n",
            " decoder_input (InputLayer)  [(None, None)]               0         []                            \n",
            "                                                                                                  \n",
            " encoder_embedding (Embeddi  (None, None, 128)            640000    ['encoder_input[0][0]']       \n",
            " ng)                                                                                              \n",
            "                                                                                                  \n",
            " decoder_embedding (Embeddi  (None, None, 128)            640000    ['decoder_input[0][0]']       \n",
            " ng)                                                                                              \n",
            "                                                                                                  \n",
            " encoder_lstm (LSTM)         [(None, 128),                131584    ['encoder_embedding[0][0]']   \n",
            "                              (None, 128),                                                        \n",
            "                              (None, 128)]                                                        \n",
            "                                                                                                  \n",
            " decoder_lstm (LSTM)         [(None, None, 128),          131584    ['decoder_embedding[0][0]',   \n",
            "                              (None, 128),                           'encoder_lstm[0][1]',        \n",
            "                              (None, 128)]                           'encoder_lstm[0][2]']        \n",
            "                                                                                                  \n",
            " output_layer (Dense)        (None, None, 5000)           645000    ['decoder_lstm[0][0]']        \n",
            "                                                                                                  \n",
            "==================================================================================================\n",
            "Total params: 2188168 (8.35 MB)\n",
            "Trainable params: 2188168 (8.35 MB)\n",
            "Non-trainable params: 0 (0.00 Byte)\n",
            "__________________________________________________________________________________________________\n"
          ]
        }
      ]
    },
    {
      "cell_type": "code",
      "source": [
        "early_stopping = keras.callbacks.EarlyStopping(monitor=\"val_loss\", patience=5, restore_best_weights=True)"
      ],
      "metadata": {
        "id": "Ihd7ZBFt_YUF"
      },
      "execution_count": 23,
      "outputs": []
    },
    {
      "cell_type": "code",
      "source": [
        "model.fit([train_encoder_input_data, train_decoder_input_data], train_target_data, epochs=200, batch_size=128, validation_split=0.2, callbacks=[early_stopping])"
      ],
      "metadata": {
        "colab": {
          "base_uri": "https://localhost:8080/"
        },
        "id": "iRwHTZ5I-67z",
        "outputId": "f6713a9b-6fba-49c4-8dbc-9d097614439d"
      },
      "execution_count": 24,
      "outputs": [
        {
          "output_type": "stream",
          "name": "stdout",
          "text": [
            "Epoch 1/200\n",
            "1325/1325 [==============================] - 63s 40ms/step - loss: 1.5065 - accuracy: 0.7838 - val_loss: 1.1401 - val_accuracy: 0.8145\n",
            "Epoch 2/200\n",
            "1325/1325 [==============================] - 36s 27ms/step - loss: 1.1532 - accuracy: 0.8074 - val_loss: 0.9704 - val_accuracy: 0.8305\n",
            "Epoch 3/200\n",
            "1325/1325 [==============================] - 36s 27ms/step - loss: 0.9853 - accuracy: 0.8269 - val_loss: 0.8360 - val_accuracy: 0.8466\n",
            "Epoch 4/200\n",
            "1325/1325 [==============================] - 35s 27ms/step - loss: 0.8694 - accuracy: 0.8403 - val_loss: 0.7432 - val_accuracy: 0.8583\n",
            "Epoch 5/200\n",
            "1325/1325 [==============================] - 35s 27ms/step - loss: 0.7775 - accuracy: 0.8516 - val_loss: 0.6702 - val_accuracy: 0.8683\n",
            "Epoch 6/200\n",
            "1325/1325 [==============================] - 35s 27ms/step - loss: 0.7029 - accuracy: 0.8615 - val_loss: 0.6152 - val_accuracy: 0.8759\n",
            "Epoch 7/200\n",
            "1325/1325 [==============================] - 35s 26ms/step - loss: 0.6425 - accuracy: 0.8700 - val_loss: 0.5739 - val_accuracy: 0.8819\n",
            "Epoch 8/200\n",
            "1325/1325 [==============================] - 35s 27ms/step - loss: 0.5925 - accuracy: 0.8772 - val_loss: 0.5413 - val_accuracy: 0.8867\n",
            "Epoch 9/200\n",
            "1325/1325 [==============================] - 35s 26ms/step - loss: 0.5514 - accuracy: 0.8835 - val_loss: 0.5167 - val_accuracy: 0.8906\n",
            "Epoch 10/200\n",
            "1325/1325 [==============================] - 35s 27ms/step - loss: 0.5174 - accuracy: 0.8889 - val_loss: 0.4979 - val_accuracy: 0.8935\n",
            "Epoch 11/200\n",
            "1325/1325 [==============================] - 35s 27ms/step - loss: 0.4889 - accuracy: 0.8935 - val_loss: 0.4833 - val_accuracy: 0.8959\n",
            "Epoch 12/200\n",
            "1325/1325 [==============================] - 35s 26ms/step - loss: 0.4649 - accuracy: 0.8974 - val_loss: 0.4726 - val_accuracy: 0.8977\n",
            "Epoch 13/200\n",
            "1325/1325 [==============================] - 35s 27ms/step - loss: 0.4440 - accuracy: 0.9010 - val_loss: 0.4644 - val_accuracy: 0.8993\n",
            "Epoch 14/200\n",
            "1325/1325 [==============================] - 35s 27ms/step - loss: 0.4262 - accuracy: 0.9040 - val_loss: 0.4582 - val_accuracy: 0.9002\n",
            "Epoch 15/200\n",
            "1325/1325 [==============================] - 35s 26ms/step - loss: 0.4104 - accuracy: 0.9067 - val_loss: 0.4552 - val_accuracy: 0.9006\n",
            "Epoch 16/200\n",
            "1325/1325 [==============================] - 35s 26ms/step - loss: 0.3963 - accuracy: 0.9092 - val_loss: 0.4509 - val_accuracy: 0.9015\n",
            "Epoch 17/200\n",
            "1325/1325 [==============================] - 35s 26ms/step - loss: 0.3838 - accuracy: 0.9114 - val_loss: 0.4487 - val_accuracy: 0.9021\n",
            "Epoch 18/200\n",
            "1325/1325 [==============================] - 35s 26ms/step - loss: 0.3722 - accuracy: 0.9135 - val_loss: 0.4485 - val_accuracy: 0.9021\n",
            "Epoch 19/200\n",
            "1325/1325 [==============================] - 35s 26ms/step - loss: 0.3616 - accuracy: 0.9154 - val_loss: 0.4487 - val_accuracy: 0.9022\n",
            "Epoch 20/200\n",
            "1325/1325 [==============================] - 35s 26ms/step - loss: 0.3518 - accuracy: 0.9173 - val_loss: 0.4487 - val_accuracy: 0.9025\n",
            "Epoch 21/200\n",
            "1325/1325 [==============================] - 35s 26ms/step - loss: 0.3428 - accuracy: 0.9191 - val_loss: 0.4498 - val_accuracy: 0.9027\n",
            "Epoch 22/200\n",
            "1325/1325 [==============================] - 35s 26ms/step - loss: 0.3343 - accuracy: 0.9206 - val_loss: 0.4514 - val_accuracy: 0.9025\n",
            "Epoch 23/200\n",
            "1325/1325 [==============================] - 35s 26ms/step - loss: 0.3263 - accuracy: 0.9221 - val_loss: 0.4524 - val_accuracy: 0.9025\n"
          ]
        },
        {
          "output_type": "execute_result",
          "data": {
            "text/plain": [
              "<keras.src.callbacks.History at 0x7c33f5a0f760>"
            ]
          },
          "metadata": {},
          "execution_count": 24
        }
      ]
    },
    {
      "cell_type": "code",
      "source": [
        "model.save(\"Google translate diy\")"
      ],
      "metadata": {
        "id": "FarCUcp4BQ72",
        "outputId": "8b27daad-dd2a-4221-8e34-e402781a03b8",
        "colab": {
          "base_uri": "https://localhost:8080/"
        }
      },
      "execution_count": 25,
      "outputs": [
        {
          "output_type": "stream",
          "name": "stderr",
          "text": [
            "Exception ignored in: <function _xla_gc_callback at 0x7c340f3c4790>\n",
            "Traceback (most recent call last):\n",
            "  File \"/usr/local/lib/python3.10/dist-packages/jax/_src/lib/__init__.py\", line 98, in _xla_gc_callback\n",
            "KeyboardInterrupt: \n"
          ]
        }
      ]
    },
    {
      "cell_type": "markdown",
      "source": [
        "# Utilisation du modèle\n",
        "Fragementer mon modèle en 2 sous modèles:\n",
        "1. Encodeur : traduit de l'anglais à un \"language mathématiques\"\n",
        "2. Décodeur : traduit du \"language mathématique\" au français"
      ],
      "metadata": {
        "id": "AF35hLpqBIOc"
      }
    },
    {
      "cell_type": "code",
      "source": [
        "def get_encoder_decoder_model(model,latent_dim):\n",
        "\n",
        "  encoder_input = model.input[0]\n",
        "  encoder_embedding = model.get_layer(\"encoder_embedding\")(encoder_input)\n",
        "  encoder_lstm = model.get_layer(\"encoder_lstm\")\n",
        "  _, state_h, state_c = encoder_lstm(encoder_embedding)\n",
        "  context_vector = [state_h, state_c]\n",
        "  encoder_model = keras.models.Model(encoder_input, context_vector)\n",
        "\n",
        "  decoder_input = model.input[1]\n",
        "  decoder_state_h_input = keras.layers.Input(shape=(latent_dim,), name=\"decoder_state_h_input\")\n",
        "  decoder_state_c_input = keras.layers.Input(shape=(latent_dim,), name=\"decoder_state_c_input\")\n",
        "\n",
        "  decoder_embedding = model.get_layer(\"decoder_embedding\")(decoder_input)\n",
        "  decoder_lstm_layer = model.get_layer(\"decoder_lstm\")\n",
        "  decoder_outputs, decoder_state_h, decoder_state_c = decoder_lstm_layer(decoder_embedding, initial_state=[decoder_state_h_input, decoder_state_c_input])\n",
        "\n",
        "  decoder_output = model.get_layer(\"output_layer\")(decoder_outputs[-1])\n",
        "\n",
        "\n",
        "  decoder_model = keras.models.Model([decoder_input, decoder_state_h_input, decoder_state_c_input], [decoder_output, decoder_state_h, decoder_state_c])\n",
        "\n",
        "\n",
        "  return encoder_model, decoder_model"
      ],
      "metadata": {
        "id": "D7a5aKsFBHYH"
      },
      "execution_count": 26,
      "outputs": []
    },
    {
      "cell_type": "code",
      "source": [
        "encoder_model, decoder_model = get_encoder_decoder_model(model, 128)"
      ],
      "metadata": {
        "id": "NH3HpeuVITb7"
      },
      "execution_count": 27,
      "outputs": []
    },
    {
      "cell_type": "code",
      "source": [
        "def translate_sentence(sentence, encoder_model, decoder_model, english_tokenizer, french_tokenizer, padding=30):\n",
        "\n",
        "  sequence = numpy.array([english_tokenizer.word_index.get(word, 0) for word in sentence.split()])\n",
        "  print(sequence)\n",
        "  sequence = pad_sequences([sequence], maxlen=padding, padding='post')\n",
        "\n",
        "  decoder_lstm_input = numpy.array([[french_tokenizer.word_index[\"sos\"]]])\n",
        "  states_values = encoder_model.predict(sequence) # à la première itération il s'agit du vecteur de contexte\n",
        "\n",
        "\n",
        "  stop_condition = False\n",
        "  translated_sentence = []\n",
        "\n",
        "  while not stop_condition:\n",
        "    decoder_inputs = [decoder_lstm_input] + states_values\n",
        "\n",
        "    output_token, h, c = decoder_model.predict(decoder_inputs)\n",
        "\n",
        "    predicted_token_index = numpy.argmax(output_token[0])\n",
        "\n",
        "    predicted_token = french_tokenizer.index_word[predicted_token_index]\n",
        "\n",
        "\n",
        "\n",
        "    if predicted_token == \"eos\" or len(translated_sentence) > padding:\n",
        "      stop_condition = True\n",
        "      break\n",
        "    translated_sentence.append(predicted_token)\n",
        "    decoder_lstm_input = numpy.array([[predicted_token_index]])\n",
        "    states_values = [h, c]\n",
        "\n",
        "\n",
        "  return \" \".join(translated_sentence)"
      ],
      "metadata": {
        "id": "epV_pXmxIxAY"
      },
      "execution_count": 28,
      "outputs": []
    },
    {
      "cell_type": "markdown",
      "source": [
        "# TESTER LE MODELE"
      ],
      "metadata": {
        "id": "RG4ysJubz_Dc"
      }
    },
    {
      "cell_type": "code",
      "source": [
        "translate_sentence(\"if you want give me dollars you must send me money\", encoder_model, decoder_model, english_tokenizer, french_tokenizer, padding=30)"
      ],
      "metadata": {
        "colab": {
          "base_uri": "https://localhost:8080/",
          "height": 244
        },
        "id": "5QQ5IaUcLOCX",
        "outputId": "bd73e1f7-7ea0-4f52-b228-dd7fe21502a0"
      },
      "execution_count": 40,
      "outputs": [
        {
          "output_type": "stream",
          "name": "stdout",
          "text": [
            "[ 57   3  34 126  16 807   3 119 679  16 116]\n",
            "1/1 [==============================] - 0s 18ms/step\n",
            "1/1 [==============================] - 0s 18ms/step\n",
            "1/1 [==============================] - 0s 22ms/step\n",
            "1/1 [==============================] - 0s 17ms/step\n",
            "1/1 [==============================] - 0s 17ms/step\n",
            "1/1 [==============================] - 0s 17ms/step\n",
            "1/1 [==============================] - 0s 17ms/step\n",
            "1/1 [==============================] - 0s 19ms/step\n",
            "1/1 [==============================] - 0s 17ms/step\n",
            "1/1 [==============================] - 0s 17ms/step\n",
            "1/1 [==============================] - 0s 18ms/step\n"
          ]
        },
        {
          "output_type": "execute_result",
          "data": {
            "text/plain": [
              "\"si tu veux ma montre pour moi donner l'argent\""
            ],
            "application/vnd.google.colaboratory.intrinsic+json": {
              "type": "string"
            }
          },
          "metadata": {},
          "execution_count": 40
        }
      ]
    }
  ]
}